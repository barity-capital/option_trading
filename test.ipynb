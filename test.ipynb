{
 "cells": [
  {
   "cell_type": "code",
   "execution_count": 1,
   "metadata": {},
   "outputs": [],
   "source": [
    "import ccxt\n",
    "import requests\n",
    "from binance.client import Client\n",
    "from binance.exceptions import BinanceAPIException\n",
    "from datetime import datetime, timedelta\n",
    "import time\n",
    "import hashlib\n",
    "import hmac\n",
    "import json\n",
    "import logging\n",
    "from tqdm import tqdm"
   ]
  },
  {
   "cell_type": "code",
   "execution_count": 2,
   "metadata": {},
   "outputs": [
    {
     "name": "stdout",
     "output_type": "stream",
     "text": [
      "2024-07-05 12:14:10\n"
     ]
    }
   ],
   "source": [
    "from main import *"
   ]
  },
  {
   "cell_type": "code",
   "execution_count": 3,
   "metadata": {},
   "outputs": [],
   "source": [
    "def get_min_notional(symbol):\n",
    "    url = \"https://api.binance.com/api/v3/exchangeInfo\"\n",
    "    response = requests.get(url)\n",
    "    data = response.json()\n",
    "    for s in data['symbols']:\n",
    "        if s['symbol'] == symbol:\n",
    "            for filter in s['filters']:\n",
    "                if filter['filterType'] == 'MIN_NOTIONAL':\n",
    "                    return float(filter['minNotional'])\n",
    "    return None"
   ]
  },
  {
   "cell_type": "code",
   "execution_count": 22,
   "metadata": {},
   "outputs": [],
   "source": [
    "symbol=\"XRPUSDT\""
   ]
  },
  {
   "cell_type": "code",
   "execution_count": 14,
   "metadata": {},
   "outputs": [],
   "source": [
    "api_key, api_secret = get_keys(\"binance_keys.json\")\n",
    "client = Client(api_key, api_secret, testnet=True)\n",
    "\n",
    "ticker = client.get_symbol_ticker(symbol=symbol)\n",
    "current_price = float(ticker['price'])"
   ]
  },
  {
   "cell_type": "code",
   "execution_count": 19,
   "metadata": {},
   "outputs": [
    {
     "data": {
      "text/plain": [
       "0.4186"
      ]
     },
     "execution_count": 19,
     "metadata": {},
     "output_type": "execute_result"
    }
   ],
   "source": [
    "current_price"
   ]
  },
  {
   "cell_type": "code",
   "execution_count": 23,
   "metadata": {},
   "outputs": [],
   "source": [
    "symbol_info = client.get_symbol_info(symbol)\n",
    "min_notional = None\n",
    "for filt in symbol_info['filters']:\n",
    "    if filt['filterType'] == 'MIN_NOTIONAL':\n",
    "        min_notional = float(filt['minNotional'])"
   ]
  },
  {
   "cell_type": "code",
   "execution_count": 28,
   "metadata": {},
   "outputs": [
    {
     "name": "stderr",
     "output_type": "stream",
     "text": [
      "INFO:main:Order details saved to order.json\n"
     ]
    },
    {
     "name": "stdout",
     "output_type": "stream",
     "text": [
      "Order placed successfully.\n"
     ]
    },
    {
     "data": {
      "text/plain": [
       "{'symbol': 'XRPUSDT',\n",
       " 'orderId': 3117535,\n",
       " 'orderListId': -1,\n",
       " 'clientOrderId': 'eNfk5sfKEILogtR1IN6dBs',\n",
       " 'transactTime': 1720186980253,\n",
       " 'price': '0.00000000',\n",
       " 'origQty': '12.00000000',\n",
       " 'executedQty': '12.00000000',\n",
       " 'cummulativeQuoteQty': '5.04000000',\n",
       " 'status': 'FILLED',\n",
       " 'timeInForce': 'GTC',\n",
       " 'type': 'MARKET',\n",
       " 'side': 'BUY',\n",
       " 'workingTime': 1720186980253,\n",
       " 'fills': [{'price': '0.42000000',\n",
       "   'qty': '12.00000000',\n",
       "   'commission': '0.00000000',\n",
       "   'commissionAsset': 'XRP',\n",
       "   'tradeId': 178377}],\n",
       " 'selfTradePreventionMode': 'EXPIRE_MAKER'}"
      ]
     },
     "execution_count": 28,
     "metadata": {},
     "output_type": "execute_result"
    }
   ],
   "source": [
    "create_hedging_order(symbol,\"BUY\",12)"
   ]
  },
  {
   "cell_type": "code",
   "execution_count": 17,
   "metadata": {},
   "outputs": [
    {
     "name": "stdout",
     "output_type": "stream",
     "text": [
      "None\n"
     ]
    }
   ],
   "source": [
    "print(min_notional)"
   ]
  },
  {
   "cell_type": "code",
   "execution_count": 12,
   "metadata": {},
   "outputs": [
    {
     "name": "stderr",
     "output_type": "stream",
     "text": [
      "INFO:main:Current price of XRPUSDT: 0.4159\n",
      "INFO:main:Share to purchase: 30.38\n"
     ]
    },
    {
     "name": "stdout",
     "output_type": "stream",
     "text": [
      "Current price of XRPUSDT: 0.4159\n",
      "The purchase order in USD is 12.635041999999999\n",
      "Create BUY hedging order for: XRPUSDT for 30.38\n"
     ]
    },
    {
     "name": "stderr",
     "output_type": "stream",
     "text": [
      "INFO:main:Order details saved to order.json\n"
     ]
    },
    {
     "name": "stdout",
     "output_type": "stream",
     "text": [
      "Order placed successfully.\n"
     ]
    }
   ],
   "source": [
    "calculate_and_place_order(symbol,0)"
   ]
  },
  {
   "cell_type": "code",
   "execution_count": 33,
   "metadata": {},
   "outputs": [
    {
     "name": "stdout",
     "output_type": "stream",
     "text": [
      "None\n"
     ]
    }
   ],
   "source": [
    "print(get_min_notional(\"XRPUSDT\"))"
   ]
  }
 ],
 "metadata": {
  "kernelspec": {
   "display_name": "Yolo",
   "language": "python",
   "name": "python3"
  },
  "language_info": {
   "codemirror_mode": {
    "name": "ipython",
    "version": 3
   },
   "file_extension": ".py",
   "mimetype": "text/x-python",
   "name": "python",
   "nbconvert_exporter": "python",
   "pygments_lexer": "ipython3",
   "version": "3.12.4"
  }
 },
 "nbformat": 4,
 "nbformat_minor": 2
}
