{
 "cells": [
  {
   "cell_type": "code",
   "execution_count": 1,
   "metadata": {},
   "outputs": [],
   "source": [
    "import ccxt\n",
    "import requests\n",
    "from binance.client import Client\n",
    "from binance.exceptions import BinanceAPIException\n",
    "from datetime import datetime, timedelta\n",
    "import time\n",
    "import hashlib\n",
    "import hmac\n",
    "import json\n",
    "import logging\n",
    "from tqdm import tqdm"
   ]
  },
  {
   "cell_type": "code",
   "execution_count": 3,
   "metadata": {},
   "outputs": [
    {
     "name": "stdout",
     "output_type": "stream",
     "text": [
      "We are using a delta of 20 weeks\n",
      "We are using a delta of 3600 seconds\n",
      "2024-07-18 14:45:09\n"
     ]
    }
   ],
   "source": [
    "from main import *"
   ]
  },
  {
   "cell_type": "code",
   "execution_count": 4,
   "metadata": {},
   "outputs": [],
   "source": [
    "def get_min_notional(symbol):\n",
    "    url = \"https://api.binance.com/api/v3/exchangeInfo\"\n",
    "    response = requests.get(url)\n",
    "    data = response.json()\n",
    "    for s in data['symbols']:\n",
    "        if s['symbol'] == symbol:\n",
    "            for filter in s['filters']:\n",
    "                if filter['filterType'] == 'MIN_NOTIONAL':\n",
    "                    return float(filter['minNotional'])\n",
    "    return None"
   ]
  },
  {
   "cell_type": "code",
   "execution_count": 11,
   "metadata": {},
   "outputs": [],
   "source": [
    "global testnet\n"
   ]
  },
  {
   "cell_type": "code",
   "execution_count": 5,
   "metadata": {},
   "outputs": [],
   "source": [
    "symbol=\"XRPUSDT\""
   ]
  },
  {
   "cell_type": "code",
   "execution_count": 15,
   "metadata": {},
   "outputs": [
    {
     "ename": "NameError",
     "evalue": "name 'testnet' is not defined",
     "output_type": "error",
     "traceback": [
      "\u001b[1;31m---------------------------------------------------------------------------\u001b[0m",
      "\u001b[1;31mNameError\u001b[0m                                 Traceback (most recent call last)",
      "Cell \u001b[1;32mIn[15], line 3\u001b[0m\n\u001b[0;32m      1\u001b[0m \u001b[38;5;28;01mglobal\u001b[39;00m testnet\n\u001b[0;32m      2\u001b[0m testnet\n\u001b[1;32m----> 3\u001b[0m \u001b[43mget_account_balances\u001b[49m\u001b[43m(\u001b[49m\u001b[43msymbol\u001b[49m\u001b[43m)\u001b[49m\n",
      "File \u001b[1;32mc:\\Users\\Dan_Huynh\\Desktop\\Hedge\\main.py:305\u001b[0m, in \u001b[0;36mget_account_balances\u001b[1;34m(symbol)\u001b[0m\n\u001b[0;32m    303\u001b[0m \u001b[38;5;28;01mdef\u001b[39;00m \u001b[38;5;21mget_account_balances\u001b[39m(symbol\u001b[38;5;241m=\u001b[39m\u001b[38;5;28;01mNone\u001b[39;00m):\n\u001b[0;32m    304\u001b[0m     api_key,api_secret\u001b[38;5;241m=\u001b[39mget_keys(\u001b[38;5;124m\"\u001b[39m\u001b[38;5;124mbinance_keys.json\u001b[39m\u001b[38;5;124m\"\u001b[39m)\n\u001b[1;32m--> 305\u001b[0m     client \u001b[38;5;241m=\u001b[39m Client(api_key, api_secret, testnet\u001b[38;5;241m=\u001b[39m\u001b[43mtestnet\u001b[49m)\n\u001b[0;32m    306\u001b[0m     time_offset\u001b[38;5;241m=\u001b[39mget_time_off_set(\u001b[38;5;124m\"\u001b[39m\u001b[38;5;124mtime.json\u001b[39m\u001b[38;5;124m\"\u001b[39m)\n\u001b[0;32m    307\u001b[0m     \u001b[38;5;28;01mif\u001b[39;00m time_offset:\n",
      "\u001b[1;31mNameError\u001b[0m: name 'testnet' is not defined"
     ]
    }
   ],
   "source": [
    "global testnet\n",
    "testnet\n",
    "get_account_balances(symbol)"
   ]
  },
  {
   "cell_type": "code",
   "execution_count": 14,
   "metadata": {},
   "outputs": [],
   "source": [
    "api_key, api_secret = get_keys(\"binance_keys.json\")\n",
    "client = Client(api_key, api_secret, testnet=True)\n",
    "\n",
    "ticker = client.get_symbol_ticker(symbol=symbol)\n",
    "current_price = float(ticker['price'])"
   ]
  },
  {
   "cell_type": "code",
   "execution_count": 19,
   "metadata": {},
   "outputs": [
    {
     "data": {
      "text/plain": [
       "0.4186"
      ]
     },
     "execution_count": 19,
     "metadata": {},
     "output_type": "execute_result"
    }
   ],
   "source": [
    "current_price"
   ]
  },
  {
   "cell_type": "code",
   "execution_count": 23,
   "metadata": {},
   "outputs": [],
   "source": [
    "symbol_info = client.get_symbol_info(symbol)\n",
    "min_notional = None\n",
    "for filt in symbol_info['filters']:\n",
    "    if filt['filterType'] == 'MIN_NOTIONAL':\n",
    "        min_notional = float(filt['minNotional'])"
   ]
  },
  {
   "cell_type": "code",
   "execution_count": 28,
   "metadata": {},
   "outputs": [
    {
     "name": "stderr",
     "output_type": "stream",
     "text": [
      "INFO:main:Order details saved to order.json\n"
     ]
    },
    {
     "name": "stdout",
     "output_type": "stream",
     "text": [
      "Order placed successfully.\n"
     ]
    },
    {
     "data": {
      "text/plain": [
       "{'symbol': 'XRPUSDT',\n",
       " 'orderId': 3117535,\n",
       " 'orderListId': -1,\n",
       " 'clientOrderId': 'eNfk5sfKEILogtR1IN6dBs',\n",
       " 'transactTime': 1720186980253,\n",
       " 'price': '0.00000000',\n",
       " 'origQty': '12.00000000',\n",
       " 'executedQty': '12.00000000',\n",
       " 'cummulativeQuoteQty': '5.04000000',\n",
       " 'status': 'FILLED',\n",
       " 'timeInForce': 'GTC',\n",
       " 'type': 'MARKET',\n",
       " 'side': 'BUY',\n",
       " 'workingTime': 1720186980253,\n",
       " 'fills': [{'price': '0.42000000',\n",
       "   'qty': '12.00000000',\n",
       "   'commission': '0.00000000',\n",
       "   'commissionAsset': 'XRP',\n",
       "   'tradeId': 178377}],\n",
       " 'selfTradePreventionMode': 'EXPIRE_MAKER'}"
      ]
     },
     "execution_count": 28,
     "metadata": {},
     "output_type": "execute_result"
    }
   ],
   "source": [
    "create_hedging_order(symbol,\"BUY\",12)"
   ]
  },
  {
   "cell_type": "code",
   "execution_count": 17,
   "metadata": {},
   "outputs": [
    {
     "name": "stdout",
     "output_type": "stream",
     "text": [
      "None\n"
     ]
    }
   ],
   "source": [
    "print(min_notional)"
   ]
  },
  {
   "cell_type": "code",
   "execution_count": 12,
   "metadata": {},
   "outputs": [
    {
     "name": "stderr",
     "output_type": "stream",
     "text": [
      "INFO:main:Current price of XRPUSDT: 0.4159\n",
      "INFO:main:Share to purchase: 30.38\n"
     ]
    },
    {
     "name": "stdout",
     "output_type": "stream",
     "text": [
      "Current price of XRPUSDT: 0.4159\n",
      "The purchase order in USD is 12.635041999999999\n",
      "Create BUY hedging order for: XRPUSDT for 30.38\n"
     ]
    },
    {
     "name": "stderr",
     "output_type": "stream",
     "text": [
      "INFO:main:Order details saved to order.json\n"
     ]
    },
    {
     "name": "stdout",
     "output_type": "stream",
     "text": [
      "Order placed successfully.\n"
     ]
    }
   ],
   "source": [
    "calculate_and_place_order(symbol,0)"
   ]
  },
  {
   "cell_type": "code",
   "execution_count": 33,
   "metadata": {},
   "outputs": [
    {
     "name": "stdout",
     "output_type": "stream",
     "text": [
      "None\n"
     ]
    }
   ],
   "source": [
    "print(get_min_notional(\"XRPUSDT\"))"
   ]
  }
 ],
 "metadata": {
  "kernelspec": {
   "display_name": "Yolo",
   "language": "python",
   "name": "python3"
  },
  "language_info": {
   "codemirror_mode": {
    "name": "ipython",
    "version": 3
   },
   "file_extension": ".py",
   "mimetype": "text/x-python",
   "name": "python",
   "nbconvert_exporter": "python",
   "pygments_lexer": "ipython3",
   "version": "3.12.4"
  }
 },
 "nbformat": 4,
 "nbformat_minor": 2
}
