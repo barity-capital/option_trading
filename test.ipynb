{
 "cells": [
  {
   "cell_type": "code",
   "execution_count": 20,
   "metadata": {},
   "outputs": [],
   "source": [
    "import ccxt\n",
    "import requests\n",
    "from binance.client import Client\n",
    "from binance.exceptions import BinanceAPIException\n",
    "from datetime import datetime, timedelta\n",
    "import time\n",
    "import hashlib\n",
    "import hmac\n",
    "import json\n",
    "import logging\n",
    "from tqdm import tqdm"
   ]
  },
  {
   "cell_type": "code",
   "execution_count": 25,
   "metadata": {},
   "outputs": [],
   "source": [
    "from main import *"
   ]
  },
  {
   "cell_type": "code",
   "execution_count": 26,
   "metadata": {},
   "outputs": [],
   "source": [
    "def get_min_notional(symbol):\n",
    "    url = \"https://api.binance.com/api/v3/exchangeInfo\"\n",
    "    response = requests.get(url)\n",
    "    data = response.json()\n",
    "    for s in data['symbols']:\n",
    "        if s['symbol'] == symbol:\n",
    "            for filter in s['filters']:\n",
    "                if filter['filterType'] == 'MIN_NOTIONAL':\n",
    "                    return float(filter['minNotional'])\n",
    "    return None"
   ]
  },
  {
   "cell_type": "code",
   "execution_count": 35,
   "metadata": {},
   "outputs": [],
   "source": [
    "symbol=\"XRPUSDT\""
   ]
  },
  {
   "cell_type": "code",
   "execution_count": 36,
   "metadata": {},
   "outputs": [],
   "source": [
    "api_key, api_secret = get_keys(\"binance_keys.json\")\n",
    "client = Client(api_key, api_secret, testnet=True)\n",
    "\n",
    "ticker = client.get_symbol_ticker(symbol=symbol)\n",
    "current_price = float(ticker['price'])"
   ]
  },
  {
   "cell_type": "code",
   "execution_count": 37,
   "metadata": {},
   "outputs": [
    {
     "data": {
      "text/plain": [
       "0.4156"
      ]
     },
     "execution_count": 37,
     "metadata": {},
     "output_type": "execute_result"
    }
   ],
   "source": [
    "current_price"
   ]
  },
  {
   "cell_type": "code",
   "execution_count": 38,
   "metadata": {},
   "outputs": [],
   "source": [
    "def calculate_and_place_order(symbol, old_delta):\n",
    "    try:\n",
    "        \n",
    "        old_delta = float(old_delta)\n",
    "        new_delta = float(information_for_options(client)[-2])\n",
    "        contract_size = float(information_for_options(client)[-1])\n",
    "        share_to_purchase = (new_delta - old_delta) * contract_size\n",
    "\n",
    "        api_key, api_secret = get_keys(\"binance_keys.json\")\n",
    "        client = Client(api_key, api_secret, testnet=True)\n",
    "\n",
    "        ticker = client.get_symbol_ticker(symbol=symbol)\n",
    "        current_price = float(ticker['price'])\n",
    "        logger.info(f\"Current price of {symbol}: {current_price}\")\n",
    "        print(f\"Current price of {symbol}: {current_price}\")\n",
    "        logger.info(f\"Share to purchase: {share_to_purchase}\")\n",
    "\n",
    "        notional_value = current_price * share_to_purchase\n",
    "        print(f\"The purchase order in USD is {notional_value}\")\n",
    "        if notional_value >= 5.1:\n",
    "            if share_to_purchase != 0:  # Only place an order if there's a change in delta\n",
    "                min_qty, _ = get_lot_size(symbol)\n",
    "                if abs(share_to_purchase) < min_qty:\n",
    "                    logger.warning(f\"Share to purchase too small: {share_to_purchase}\")\n",
    "                else:\n",
    "                    side = \"BUY\" if new_delta > old_delta else \"SELL\"\n",
    "                    print(f\"Create {side} hedging order for: {symbol} for {round(abs(share_to_purchase), 6)}\")\n",
    "                    create_hedging_order(symbol, side, round(abs(share_to_purchase), 6))\n",
    "            else:\n",
    "                logger.info(f\"{datetime.now()}: No change in delta. No order placed.\")\n",
    "                print(\"No Order placed no change in Delta\")\n",
    "        else: \n",
    "            logger.warning(f\"Notional price: {notional_value} too low cant place order\")\n",
    "    except Exception as e:\n",
    "        logger.error(f\"Error calculating and placing order: {e}\")\n",
    "        raise Exception(f\"An error occurred: {e}\")"
   ]
  },
  {
   "cell_type": "code",
   "execution_count": 40,
   "metadata": {},
   "outputs": [
    {
     "ename": "NameError",
     "evalue": "name 'logger' is not defined",
     "output_type": "error",
     "traceback": [
      "\u001b[1;31m---------------------------------------------------------------------------\u001b[0m",
      "\u001b[1;31mUnboundLocalError\u001b[0m                         Traceback (most recent call last)",
      "Cell \u001b[1;32mIn[38], line 5\u001b[0m, in \u001b[0;36mcalculate_and_place_order\u001b[1;34m(symbol, old_delta)\u001b[0m\n\u001b[0;32m      4\u001b[0m old_delta \u001b[38;5;241m=\u001b[39m \u001b[38;5;28mfloat\u001b[39m(old_delta)\n\u001b[1;32m----> 5\u001b[0m new_delta \u001b[38;5;241m=\u001b[39m \u001b[38;5;28mfloat\u001b[39m(information_for_options(\u001b[43mclient\u001b[49m)[\u001b[38;5;241m-\u001b[39m\u001b[38;5;241m2\u001b[39m])\n\u001b[0;32m      6\u001b[0m contract_size \u001b[38;5;241m=\u001b[39m \u001b[38;5;28mfloat\u001b[39m(information_for_options(client)[\u001b[38;5;241m-\u001b[39m\u001b[38;5;241m1\u001b[39m])\n",
      "\u001b[1;31mUnboundLocalError\u001b[0m: cannot access local variable 'client' where it is not associated with a value",
      "\nDuring handling of the above exception, another exception occurred:\n",
      "\u001b[1;31mNameError\u001b[0m                                 Traceback (most recent call last)",
      "Cell \u001b[1;32mIn[40], line 1\u001b[0m\n\u001b[1;32m----> 1\u001b[0m \u001b[43mcalculate_and_place_order\u001b[49m\u001b[43m(\u001b[49m\u001b[43msymbol\u001b[49m\u001b[43m,\u001b[49m\u001b[38;5;241;43m0\u001b[39;49m\u001b[43m)\u001b[49m\n",
      "Cell \u001b[1;32mIn[38], line 35\u001b[0m, in \u001b[0;36mcalculate_and_place_order\u001b[1;34m(symbol, old_delta)\u001b[0m\n\u001b[0;32m     33\u001b[0m         logger\u001b[38;5;241m.\u001b[39mwarning(\u001b[38;5;124mf\u001b[39m\u001b[38;5;124m\"\u001b[39m\u001b[38;5;124mNotional price: \u001b[39m\u001b[38;5;132;01m{\u001b[39;00mnotional_value\u001b[38;5;132;01m}\u001b[39;00m\u001b[38;5;124m too low cant place order\u001b[39m\u001b[38;5;124m\"\u001b[39m)\n\u001b[0;32m     34\u001b[0m \u001b[38;5;28;01mexcept\u001b[39;00m \u001b[38;5;167;01mException\u001b[39;00m \u001b[38;5;28;01mas\u001b[39;00m e:\n\u001b[1;32m---> 35\u001b[0m     \u001b[43mlogger\u001b[49m\u001b[38;5;241m.\u001b[39merror(\u001b[38;5;124mf\u001b[39m\u001b[38;5;124m\"\u001b[39m\u001b[38;5;124mError calculating and placing order: \u001b[39m\u001b[38;5;132;01m{\u001b[39;00me\u001b[38;5;132;01m}\u001b[39;00m\u001b[38;5;124m\"\u001b[39m)\n\u001b[0;32m     36\u001b[0m     \u001b[38;5;28;01mraise\u001b[39;00m \u001b[38;5;167;01mException\u001b[39;00m(\u001b[38;5;124mf\u001b[39m\u001b[38;5;124m\"\u001b[39m\u001b[38;5;124mAn error occurred: \u001b[39m\u001b[38;5;132;01m{\u001b[39;00me\u001b[38;5;132;01m}\u001b[39;00m\u001b[38;5;124m\"\u001b[39m)\n",
      "\u001b[1;31mNameError\u001b[0m: name 'logger' is not defined"
     ]
    }
   ],
   "source": [
    "calculate_and_place_order(symbol,0)"
   ]
  },
  {
   "cell_type": "code",
   "execution_count": 33,
   "metadata": {},
   "outputs": [
    {
     "name": "stdout",
     "output_type": "stream",
     "text": [
      "None\n"
     ]
    }
   ],
   "source": [
    "print(get_min_notional(\"XRPUSDT\"))"
   ]
  }
 ],
 "metadata": {
  "kernelspec": {
   "display_name": "Yolo",
   "language": "python",
   "name": "python3"
  },
  "language_info": {
   "codemirror_mode": {
    "name": "ipython",
    "version": 3
   },
   "file_extension": ".py",
   "mimetype": "text/x-python",
   "name": "python",
   "nbconvert_exporter": "python",
   "pygments_lexer": "ipython3",
   "version": "3.12.4"
  }
 },
 "nbformat": 4,
 "nbformat_minor": 2
}
