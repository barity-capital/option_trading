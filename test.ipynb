{
 "cells": [
  {
   "cell_type": "code",
   "execution_count": 1,
   "metadata": {},
   "outputs": [],
   "source": [
    "import ccxt\n",
    "import requests\n",
    "from binance.client import Client\n",
    "from binance.exceptions import BinanceAPIException\n",
    "from datetime import datetime, timedelta\n",
    "import time\n",
    "import hashlib\n",
    "import hmac\n",
    "import pandas\n",
    "import json\n"
   ]
  },
  {
   "cell_type": "code",
   "execution_count": 2,
   "metadata": {},
   "outputs": [],
   "source": [
    "def get_keys(filepath):\n",
    "    with open(filepath) as config_file:\n",
    "        config = json.load(config_file)\n",
    "        api_key = config['api_key']\n",
    "        api_secret=config['api_secret']\n",
    "    return api_key,api_secret"
   ]
  },
  {
   "cell_type": "code",
   "execution_count": 3,
   "metadata": {},
   "outputs": [],
   "source": [
    "def get_time_off_set(filepath):\n",
    "    with open(filepath) as config_file:\n",
    "        time_offset=json.load(config_file)\n",
    "    return time_offset"
   ]
  },
  {
   "cell_type": "code",
   "execution_count": 4,
   "metadata": {},
   "outputs": [],
   "source": [
    "def synchronize_time():\n",
    "    api_key,api_secret=get_keys(\"binance_keys.json\")\n",
    "    client = Client(api_key, api_secret, testnet=True)\n",
    "    try:\n",
    "        server_time = client.get_server_time()\n",
    "        server_timestamp = server_time['serverTime']\n",
    "        local_timestamp = int(time.time() * 1000)\n",
    "        time_offset = server_timestamp - local_timestamp\n",
    "        with open(\"time.json\",\"w\") as config_file:\n",
    "            json.dump(time_offset,config_file)\n",
    "    except Exception as e:\n",
    "        print(f\"An error occurred during time synchronization: {e}\")\n",
    "\n",
    "# Update to use synchronized time offset"
   ]
  },
  {
   "cell_type": "code",
   "execution_count": 6,
   "metadata": {},
   "outputs": [
    {
     "data": {
      "text/plain": [
       "('dIgzgeXGUjuNi81pWAZAzHt1zkYcfoN4QM0oasQsVkJQmoqdkC7dilNLiETRheyU',\n",
       " 'ZxiMdpOSzIirGkhnkEBJsNHZ92okUqBwSulFIKKeHSLbLdlPkjWN9lMx5lsJn79g')"
      ]
     },
     "execution_count": 6,
     "metadata": {},
     "output_type": "execute_result"
    }
   ],
   "source": [
    "get_keys(\"binance_keys.json\")"
   ]
  },
  {
   "cell_type": "code",
   "execution_count": 63,
   "metadata": {},
   "outputs": [
    {
     "data": {
      "text/plain": [
       "-1630"
      ]
     },
     "execution_count": 63,
     "metadata": {},
     "output_type": "execute_result"
    }
   ],
   "source": [
    "synchronize_time()"
   ]
  },
  {
   "cell_type": "code",
   "execution_count": 64,
   "metadata": {},
   "outputs": [
    {
     "data": {
      "text/plain": [
       "-1630"
      ]
     },
     "execution_count": 64,
     "metadata": {},
     "output_type": "execute_result"
    }
   ],
   "source": [
    "get_time_off_set(\"time.json\")"
   ]
  },
  {
   "cell_type": "code",
   "execution_count": 5,
   "metadata": {},
   "outputs": [],
   "source": [
    "def information_for_options(client):\n",
    "    markets = client.fetch_markets()\n",
    "    server_time = client.fetch_time()\n",
    "    # Filter option markets\n",
    "    option_markets = [market for market in markets if market['type'] == 'option']\n",
    "    # print(\"Option markets:\", option_markets)\n",
    "    for i in option_markets:\n",
    "        # print(i[\"info\"])\n",
    "        filtered_list = []\n",
    "        expiry_timestamp = float(i['info']['expiration_timestamp'])/1000\n",
    "        # Convert expiry timestamp to datetime\n",
    "        expiry_datetime = datetime.utcfromtimestamp(expiry_timestamp)\n",
    "\n",
    "        # Calculate current datetime plus 20 weeks\n",
    "        current_datetime = datetime.utcnow()\n",
    "        twenty_weeks_later = current_datetime + timedelta(weeks=20)\n",
    "        # Check if expiry datetime is greater than 20 weeks later\n",
    "        if expiry_datetime <= twenty_weeks_later:\n",
    "            filtered_list.append(i)\n",
    "            # if call option and strike is not none, add to list\n",
    "            second_filtered_list = []\n",
    "            for item in filtered_list:\n",
    "                # if item[\"strike\"] is not None and \n",
    "                if item[\"optionType\"] == \"call\" and item[\"strike\"] is not None:\n",
    "\n",
    "                    second_filtered_list.append(item)\n",
    "                    # third_filtered_list = []\n",
    "                    # # Loop through second filtered list and get contract with longest expiration\n",
    "                    # for item in second_filtered_list:\n",
    "                    #     expired_time = item[\"expiration_timestamp\"]\n",
    "                        \n",
    "    #                     if item[\"expiration_timestamp\"] is not None:\n",
    "    #                         third_filtered_list.append(item)\n",
    "            third_filtered_list = []\n",
    "            expiry_timestamp_list = []\n",
    "            if len(second_filtered_list) > 0:\n",
    "                longest_expiry_contract = max(second_filtered_list, key=lambda x: x['expiry'])\n",
    "\n",
    "    # print(longest_expiry_contract)\n",
    "    # Contract symbol\n",
    "    symbol = longest_expiry_contract[\"id\"]\n",
    "    # Timestamp of contract            \n",
    "    expire_time = float(longest_expiry_contract[\"info\"][\"expiration_timestamp\"])\n",
    "    # convert expiration timestamp to datetime\n",
    "    expiry_datetime = datetime.utcfromtimestamp(expire_time/1000)\n",
    "    # Get delta\n",
    "    contract_delta = client.fetch_greeks(longest_expiry_contract[\"symbol\"])\n",
    "    delta = contract_delta[\"info\"][\"greeks\"][\"delta\"]\n",
    "\n",
    "    # Get contract size\n",
    "    # Calculate share to purchase\n",
    "    contract_size = longest_expiry_contract[\"info\"][\"contract_size\"]\n",
    "    share_to_purchase = float(delta) * float(contract_size)\n",
    "\n",
    "\n",
    "    return expiry_datetime, share_to_purchase, symbol ,delta ,contract_size"
   ]
  },
  {
   "cell_type": "code",
   "execution_count": 6,
   "metadata": {},
   "outputs": [
    {
     "name": "stdout",
     "output_type": "stream",
     "text": [
      "https://test.deribit.com/api/v2/\n"
     ]
    }
   ],
   "source": [
    "\n",
    "mode = \"test\"\n",
    "\n",
    "client_id_testnet = \"m_cYdGRs\"\n",
    "client_secret_testnet = \"CFMj4XERdBpYU5f-xGiEeM6q29WWPh78KbOllO8I5nI\"\n",
    "\n",
    "client_id_realnet = \"VUSrWKNX\"\n",
    "client_secret_realnet = \"CNIEmjiKy2p-h28O4Mda1QKD8hXJ3duA5rAODdLfvwE\"\n",
    "\n",
    "if mode == \"test\":\n",
    "    client_id = client_id_testnet\n",
    "    client_secret = client_secret_testnet\n",
    "    base_url = 'https://test.deribit.com/api/v2/' # test base url\n",
    "else:\n",
    "    client_id = client_id_realnet\n",
    "    client_secret = client_secret_realnet\n",
    "    base_url = 'https://www.deribit.com/api/v2/'\n",
    "\n",
    "print(base_url)\n",
    "\n",
    "\n",
    "# Function to get access token\n",
    "def get_access_token(client_id, client_secret):\n",
    "    url = f'{base_url}public/auth'\n",
    "    params = {\n",
    "        'client_id': client_id,\n",
    "        'client_secret': client_secret,\n",
    "        'grant_type': 'client_credentials'\n",
    "    }\n",
    "    response = requests.get(url, params=params)\n",
    "    response_data = response.json()\n",
    "    if 'result' in response_data:\n",
    "        return response_data['result']['access_token']\n",
    "    else:\n",
    "        raise Exception('Failed to get access token: ' + response_data.get('error', {}).get('message', 'Unknown error'))\n",
    "\n",
    "# Function to fetch account information\n",
    "def fetch_account_info(access_token):\n",
    "    url = f'{base_url}private/get_account_summary'\n",
    "    headers = {\n",
    "        'Authorization': f'Bearer {access_token}'\n",
    "    }\n",
    "    params = {\n",
    "        'currency': 'BTC'  # or 'ETH', etc.\n",
    "    }\n",
    "    response = requests.get(url, headers=headers, params=params)\n",
    "    response_data = response.json()\n",
    "    if 'result' in response_data:\n",
    "        return response_data['result']\n",
    "    else:\n",
    "        raise Exception('Failed to fetch account information: ' + response_data.get('error', {}).get('message', 'Unknown error'))\n",
    "    \n",
    "client = ccxt.deribit({\n",
    "    'apiKey': client_id,\n",
    "    'secret': client_secret,\n",
    "    'timeout': 50000,\n",
    "})\n",
    "if mode==\"test\":\n",
    "    client.set_sandbox_mode(True)"
   ]
  },
  {
   "cell_type": "code",
   "execution_count": 7,
   "metadata": {},
   "outputs": [
    {
     "name": "stdout",
     "output_type": "stream",
     "text": [
      "{'futures_session_upl': 0.0, 'session_rpl': 0.0, 'delta_total_map': {}, 'portfolio_margining_enabled': False, 'projected_maintenance_margin': 0.0, 'projected_initial_margin': 0.0, 'cross_collateral_enabled': False, 'estimated_liquidation_ratio': 0.0, 'options_value': 0.0, 'currency': 'BTC', 'available_withdrawal_funds': 100.0, 'options_pl': 0.0, 'maintenance_margin': 0.0, 'options_theta': 0.0, 'available_funds': 100.0, 'balance': 100.0, 'options_session_upl': 0.0, 'options_vega': 0.0, 'margin_balance': 100.0, 'additional_reserve': 0.0, 'initial_margin': 0.0, 'fee_balance': 0.0, 'futures_pl': 0.0, 'futures_session_rpl': 0.0, 'change_margin_model_api_limit': {'rate': 10, 'timeframe': 86400000}, 'options_gamma': 0.0, 'options_gamma_map': {}, 'options_session_rpl': 0.0, 'options_vega_map': {}, 'options_theta_map': {}, 'projected_delta_total': 0.0, 'limits': {'non_matching_engine': {'burst': 15000, 'rate': 20}, 'limits_per_currency': False, 'matching_engine': {'trading': {'total': {'burst': 20, 'rate': 5}}, 'spot': {'burst': 20, 'rate': 5}, 'maximum_quotes': {'burst': 500, 'rate': 500}, 'maximum_mass_quotes': {'burst': 10, 'rate': 10}, 'guaranteed_mass_quotes': {'burst': 2, 'rate': 2}, 'cancel_all': {'burst': 20, 'rate': 5}}}, 'margin_model': 'segregated_sm', 'total_pl': 0.0, 'spot_reserve': 0.0, 'delta_total': 0.0, 'equity': 100.0, 'estimated_liquidation_ratio_map': {}, 'options_delta': 0.0, 'session_upl': 0.0}\n"
     ]
    }
   ],
   "source": [
    "access_token = get_access_token(client_id, client_secret)\n",
    "account_info = fetch_account_info(access_token)\n",
    "print(account_info)"
   ]
  },
  {
   "cell_type": "code",
   "execution_count": 8,
   "metadata": {},
   "outputs": [],
   "source": [
    "\n",
    "def create_option_order(client):\n",
    "    try:\n",
    "        # Construct the order\n",
    "        symbol=information_for_options(client)[-3]\n",
    "        order = client.create_market_buy_order(symbol,1)\n",
    "\n",
    "        print(f\"Order created successfully: {order}\")\n",
    "        return order\n",
    "\n",
    "    except Exception as e:\n",
    "        print(f\"Failed to create order: {e}\")\n",
    "        return None\n",
    "\n",
    "# Example usage"
   ]
  },
  {
   "cell_type": "code",
   "execution_count": 9,
   "metadata": {},
   "outputs": [
    {
     "name": "stdout",
     "output_type": "stream",
     "text": [
      "2024-09-27 08:00:00 0.00089 ETH-27SEP24-17000-C\n",
      "Order created successfully: {'info': {'is_liquidation': False, 'risk_reducing': False, 'creation_timestamp': '1718607071487', 'order_type': 'limit', 'order_state': 'open', 'original_order_type': 'market', 'contracts': '1.0', 'average_price': '0.0', 'reduce_only': False, 'post_only': False, 'last_update_timestamp': '1718607071487', 'filled_amount': '0.0', 'replaced': False, 'web': False, 'api': True, 'mmp': False, 'instrument_name': 'ETH-27SEP24-17000-C', 'order_id': 'ETH-8893634635', 'max_show': '1.0', 'time_in_force': 'good_til_cancelled', 'direction': 'buy', 'amount': '1.0', 'price': '0.015', 'label': '', 'trades': []}, 'id': 'ETH-8893634635', 'clientOrderId': None, 'timestamp': 1718607071487, 'datetime': '2024-06-17T06:51:11.487Z', 'lastTradeTimestamp': None, 'symbol': 'ETH/USD:ETH-240927-17000-C', 'type': 'limit', 'timeInForce': 'GTC', 'postOnly': False, 'side': 'buy', 'price': 0.015, 'stopPrice': None, 'triggerPrice': None, 'amount': 1.0, 'cost': 0.0, 'average': None, 'filled': 0.0, 'remaining': 1.0, 'status': 'open', 'fee': None, 'trades': [], 'fees': [], 'lastUpdateTimestamp': None, 'reduceOnly': None, 'takeProfitPrice': None, 'stopLossPrice': None}\n"
     ]
    },
    {
     "data": {
      "text/plain": [
       "{'info': {'is_liquidation': False,\n",
       "  'risk_reducing': False,\n",
       "  'creation_timestamp': '1718607071487',\n",
       "  'order_type': 'limit',\n",
       "  'order_state': 'open',\n",
       "  'original_order_type': 'market',\n",
       "  'contracts': '1.0',\n",
       "  'average_price': '0.0',\n",
       "  'reduce_only': False,\n",
       "  'post_only': False,\n",
       "  'last_update_timestamp': '1718607071487',\n",
       "  'filled_amount': '0.0',\n",
       "  'replaced': False,\n",
       "  'web': False,\n",
       "  'api': True,\n",
       "  'mmp': False,\n",
       "  'instrument_name': 'ETH-27SEP24-17000-C',\n",
       "  'order_id': 'ETH-8893634635',\n",
       "  'max_show': '1.0',\n",
       "  'time_in_force': 'good_til_cancelled',\n",
       "  'direction': 'buy',\n",
       "  'amount': '1.0',\n",
       "  'price': '0.015',\n",
       "  'label': '',\n",
       "  'trades': []},\n",
       " 'id': 'ETH-8893634635',\n",
       " 'clientOrderId': None,\n",
       " 'timestamp': 1718607071487,\n",
       " 'datetime': '2024-06-17T06:51:11.487Z',\n",
       " 'lastTradeTimestamp': None,\n",
       " 'symbol': 'ETH/USD:ETH-240927-17000-C',\n",
       " 'type': 'limit',\n",
       " 'timeInForce': 'GTC',\n",
       " 'postOnly': False,\n",
       " 'side': 'buy',\n",
       " 'price': 0.015,\n",
       " 'stopPrice': None,\n",
       " 'triggerPrice': None,\n",
       " 'amount': 1.0,\n",
       " 'cost': 0.0,\n",
       " 'average': None,\n",
       " 'filled': 0.0,\n",
       " 'remaining': 1.0,\n",
       " 'status': 'open',\n",
       " 'fee': None,\n",
       " 'trades': [],\n",
       " 'fees': [],\n",
       " 'lastUpdateTimestamp': None,\n",
       " 'reduceOnly': None,\n",
       " 'takeProfitPrice': None,\n",
       " 'stopLossPrice': None}"
      ]
     },
     "execution_count": 9,
     "metadata": {},
     "output_type": "execute_result"
    }
   ],
   "source": [
    "expiry_datetime, share_to_purchase, symbol ,delta ,contract_size= information_for_options(client)\n",
    "print(expiry_datetime,share_to_purchase, symbol)\n",
    "create_option_order(client)"
   ]
  },
  {
   "cell_type": "code",
   "execution_count": 10,
   "metadata": {},
   "outputs": [
    {
     "data": {
      "text/plain": [
       "(0.00089, 'ETH-27SEP24-17000-C', '0.00089', '1.0')"
      ]
     },
     "execution_count": 10,
     "metadata": {},
     "output_type": "execute_result"
    }
   ],
   "source": [
    "share_to_purchase,symbol,delta,contract_size"
   ]
  },
  {
   "cell_type": "code",
   "execution_count": 11,
   "metadata": {},
   "outputs": [
    {
     "data": {
      "text/plain": [
       "'ETHUSDT'"
      ]
     },
     "execution_count": 11,
     "metadata": {},
     "output_type": "execute_result"
    }
   ],
   "source": [
    "symbol=symbol.split(\"-\")[0]\n",
    "symbol=symbol+\"USDT\"\n",
    "symbol"
   ]
  },
  {
   "cell_type": "code",
   "execution_count": 70,
   "metadata": {},
   "outputs": [],
   "source": [
    "def create_hedging_order(symbol, side,share_to_purchase):\n",
    "    \"\"\"\n",
    "    Create a hedging order on Binance testnet.\n",
    "\n",
    "    Parameters:\n",
    "    api_key (str): Your Binance testnet API key.\n",
    "    api_secret (str): Your Binance testnet API secret.\n",
    "    symbol (str): The trading pair symbol (e.g., 'BTCUSDT').\n",
    "    side (str): 'BUY' or 'SELL' order.\n",
    "    share_to_purchase (float): Amount of the asset to purchase.\n",
    "\n",
    "    Returns:\n",
    "    dict: Response from Binance API with order details.\n",
    "    \"\"\"\n",
    "    # Connect to Binance testnet\n",
    "    api_key,api_secret=get_keys(\"binance_keys.json\")\n",
    "    client = Client(api_key, api_secret, testnet=True)\n",
    "    time_offset=get_time_off_set(\"time.json\")\n",
    "    if time_offset:\n",
    "        client.timestamp_offset = time_offset\n",
    "    # Get current price of the symbol\n",
    "    ticker = client.get_symbol_ticker(symbol=symbol)\n",
    "    current_price = float(ticker['price'])\n",
    "    print(f\"Current price of {symbol}: {current_price}\")\n",
    "    print(f\"Share to purchase: {share_to_purchase} \")\n",
    "    # Create a market order\n",
    "    try:\n",
    "        order = client.create_order(\n",
    "            symbol=symbol,\n",
    "            side=side,\n",
    "            type='MARKET',\n",
    "            quantity=float (share_to_purchase)\n",
    "        )\n",
    "        print(\"Order placed successfully.\")\n",
    "    except Exception as e:\n",
    "        print(f\"An error occurred: {e}\")\n",
    "        order = None\n",
    "    \n",
    "    return order\n",
    "\n"
   ]
  },
  {
   "cell_type": "code",
   "execution_count": 71,
   "metadata": {},
   "outputs": [],
   "source": [
    "def get_min_contract_size(symbol):\n",
    "    url = \"https://api.binance.com/api/v3/exchangeInfo\"\n",
    "    response = requests.get(url)\n",
    "    data = response.json()\n",
    "\n",
    "    for s in data['symbols']:\n",
    "        if s['symbol'] == symbol:\n",
    "            for filter in s['filters']:\n",
    "                if filter['filterType'] == 'LOT_SIZE':\n",
    "                    min_qty = filter['minQty']\n",
    "                    return float(min_qty)\n",
    "    return None"
   ]
  },
  {
   "cell_type": "code",
   "execution_count": 14,
   "metadata": {},
   "outputs": [
    {
     "name": "stdout",
     "output_type": "stream",
     "text": [
      "The minimum contract size for ETHUSDT is 0.0001\n"
     ]
    }
   ],
   "source": [
    "min_contract_size = get_min_contract_size(symbol)\n",
    "\n",
    "if min_contract_size:\n",
    "    print(f\"The minimum contract size for {symbol} is {min_contract_size}\")\n",
    "else:\n",
    "    print(f\"Symbol {symbol} not found\")"
   ]
  },
  {
   "cell_type": "code",
   "execution_count": 72,
   "metadata": {},
   "outputs": [],
   "source": [
    "def calculate_and_place_order(symbol,old_delta):\n",
    "    old_delta=float(old_delta)\n",
    "    new_delta=float(information_for_options(client)[-2])\n",
    "    contract_size=float(information_for_options(client)[-1])\n",
    "    share_to_purchase = (new_delta - old_delta) * contract_size\n",
    "    if share_to_purchase != 0:  # Only place an order if there's a change in delta\n",
    "        if share_to_purchase <get_min_contract_size(symbol)*10:\n",
    "            print(f\"Share to purchase too small: {share_to_purchase}\")\n",
    "        else:\n",
    "            if new_delta > old_delta:\n",
    "                side = \"BUY\"\n",
    "            else:\n",
    "                side = \"SELL\"\n",
    "            create_hedging_order(symbol,side, abs(share_to_purchase))\n",
    "    else:\n",
    "        print(f\"{datetime.now()}: No change in delta. No order placed.\")\n"
   ]
  },
  {
   "cell_type": "code",
   "execution_count": 73,
   "metadata": {},
   "outputs": [
    {
     "name": "stdout",
     "output_type": "stream",
     "text": [
      "Current price of ETHUSDT: 3550.85\n",
      "Share to purchase: 0.01 \n",
      "Order placed successfully.\n"
     ]
    },
    {
     "data": {
      "text/plain": [
       "{'symbol': 'ETHUSDT',\n",
       " 'orderId': 4687687,\n",
       " 'orderListId': -1,\n",
       " 'clientOrderId': 'CaqsiThmHcL7w4T7ANbqB0',\n",
       " 'transactTime': 1718608346852,\n",
       " 'price': '0.00000000',\n",
       " 'origQty': '0.01000000',\n",
       " 'executedQty': '0.01000000',\n",
       " 'cummulativeQuoteQty': '35.50780000',\n",
       " 'status': 'FILLED',\n",
       " 'timeInForce': 'GTC',\n",
       " 'type': 'MARKET',\n",
       " 'side': 'SELL',\n",
       " 'workingTime': 1718608346852,\n",
       " 'fills': [{'price': '3550.78000000',\n",
       "   'qty': '0.01000000',\n",
       "   'commission': '0.00000000',\n",
       "   'commissionAsset': 'USDT',\n",
       "   'tradeId': 522735}],\n",
       " 'selfTradePreventionMode': 'EXPIRE_MAKER'}"
      ]
     },
     "execution_count": 73,
     "metadata": {},
     "output_type": "execute_result"
    }
   ],
   "source": [
    "create_hedging_order(symbol,side=\"SELL\",share_to_purchase=get_min_contract_size(symbol)*100)"
   ]
  },
  {
   "cell_type": "code",
   "execution_count": 17,
   "metadata": {},
   "outputs": [],
   "source": [
    "def get_price_filters(symbol):\n",
    "    \"\"\"Retrieve price filter info for a given symbol.\"\"\"\n",
    "    base_url = 'https://testnet.binance.vision'\n",
    "    endpoint = '/api/v3/exchangeInfo'\n",
    "    response = requests.get(base_url + endpoint)\n",
    "    data = response.json()\n",
    "\n",
    "    for symbol_info in data['symbols']:\n",
    "        if symbol_info['symbol'] == symbol:\n",
    "            for filter in symbol_info['filters']:\n",
    "                if filter['filterType'] == 'PRICE_FILTER':\n",
    "                    return {\n",
    "                        'minPrice': float(filter['minPrice']),\n",
    "                        'maxPrice': float(filter['maxPrice']),\n",
    "                        'tickSize': float(filter['tickSize'])\n",
    "                    }\n",
    "    raise Exception(f'Price filters not found for symbol: {symbol}')"
   ]
  },
  {
   "cell_type": "code",
   "execution_count": 18,
   "metadata": {},
   "outputs": [
    {
     "data": {
      "text/plain": [
       "{'minPrice': 0.01, 'maxPrice': 1000000.0, 'tickSize': 0.01}"
      ]
     },
     "execution_count": 18,
     "metadata": {},
     "output_type": "execute_result"
    }
   ],
   "source": [
    "get_price_filters(symbol)"
   ]
  },
  {
   "cell_type": "code",
   "execution_count": 19,
   "metadata": {},
   "outputs": [],
   "source": [
    "def create_limit_order(symbol, side,share_to_purchase,limit_delta):\n",
    "    \"\"\"\n",
    "    Create a hedging order on Binance testnet.\n",
    "\n",
    "    Parameters:\n",
    "    api_key (str): Your Binance testnet API key.\n",
    "    api_secret (str): Your Binance testnet API secret.\n",
    "    symbol (str): The trading pair symbol (e.g., 'BTCUSDT').\n",
    "    side (str): 'BUY' or 'SELL' order.\n",
    "    share_to_purchase (float): Amount of the asset to purchase.\n",
    "\n",
    "    Returns:\n",
    "    dict: Response from Binance API with order details.\n",
    "    \"\"\"\n",
    "    # Connect to Binance testnet\n",
    "    api_key,api_secret=get_keys(\"binance_keys.json\")\n",
    "    timestamp = int(time.time() * 1000)\n",
    "    client = Client(api_key, api_secret, testnet=True)\n",
    "    # Get current price of the symbol\n",
    "    ticker = client.get_symbol_ticker(symbol=symbol)\n",
    "    current_price = float(ticker['price'])\n",
    "    print(f\"Current price of {symbol}: {current_price}\")\n",
    "    print(f\"Share to purchase: {share_to_purchase} \")\n",
    "    print(f\"Limited pirce : {round(current_price-current_price*limit_delta/100)}\")\n",
    "    # Create a market order\n",
    "    try:\n",
    "        order = client.create_order(\n",
    "            symbol=symbol,\n",
    "            side=side,\n",
    "            type='LIMIT',\n",
    "            price=round(current_price-current_price*limit_delta/100),\n",
    "            timeInForce=\"GTC\",\n",
    "            timestamp=timestamp,\n",
    "            quantity=float (share_to_purchase)\n",
    "        )\n",
    "        print(\"Order placed successfully.\")\n",
    "    except Exception as e:\n",
    "        print(f\"An error occurred: {e}\")\n",
    "        order = None\n",
    "    \n",
    "    return order"
   ]
  },
  {
   "cell_type": "code",
   "execution_count": 82,
   "metadata": {},
   "outputs": [],
   "source": [
    "\n",
    "\n",
    "# Function to create a signature for the request\n",
    "def create_signature(query_string, secret_key):\n",
    "    return hmac.new(secret_key.encode('utf-8'), query_string.encode('utf-8'), hashlib.sha256).hexdigest()\n",
    "\n",
    "# Function to get all open orders from Binance Spot Testnet\n",
    "def get_all_open_orders():\n",
    "    time_offset=get_time_off_set(\"time.json\")\n",
    "    if time_offset:\n",
    "        client.timestamp_offset = time_offset\n",
    "    api_key,api_secret=get_keys(\"binance_keys.json\")\n",
    "    base_url = 'https://testnet.binance.vision'\n",
    "    endpoint = '/api/v3/openOrders'\n",
    "    timestamp = int(time.time() * 1000)\n",
    "    query_string = f'timestamp={timestamp+time_offset}'\n",
    "\n",
    "    # Creating a signature\n",
    "    signature = create_signature(query_string, api_secret)\n",
    "    query_string += f'&signature={signature}'\n",
    "\n",
    "    # Header with API key\n",
    "    headers = {\n",
    "        'X-MBX-APIKEY': api_key\n",
    "    }\n",
    "\n",
    "    # Sending the GET request\n",
    "    url = f'{base_url}{endpoint}?{query_string}'\n",
    "    response = requests.get(url, headers=headers)\n",
    "\n",
    "    # Handling the response\n",
    "    if response.status_code == 200:\n",
    "        return response.json()\n",
    "    else:\n",
    "        raise Exception(f'Error: {response.status_code}, Message: {response.text}')\n",
    "def get_all_past_orders(symbol, start_time=None, end_time=None, limit=500):\n",
    "    \"\"\"Retrieve all past orders for a given symbol on Binance Spot Testnet.\"\"\"\n",
    "    time_offset=get_time_off_set(\"time.json\")\n",
    "    if time_offset:\n",
    "        client.timestamp_offset = time_offset\n",
    "    base_url = 'https://testnet.binance.vision'\n",
    "    endpoint = '/api/v3/allOrders'\n",
    "    timestamp = int(time.time() * 1000)\n",
    "    api_key,api_secret=get_keys(\"binance_keys.json\")  \n",
    "    # Create query string\n",
    "    query_string = f'symbol={symbol}&timestamp={timestamp+time_offset}&limit={limit}'\n",
    "    if start_time:\n",
    "        query_string += f'&startTime={start_time}'\n",
    "    if end_time:\n",
    "        query_string += f'&endTime={end_time}'\n",
    "\n",
    "    # Create signature\n",
    "    signature = create_signature(query_string, api_secret)\n",
    "    query_string += f'&signature={signature}'\n",
    "\n",
    "    # Headers\n",
    "    headers = {'X-MBX-APIKEY': api_key}\n",
    "\n",
    "    # Send GET request\n",
    "    url = f'{base_url}{endpoint}?{query_string}'\n",
    "    response = requests.get(url, headers=headers)\n",
    "\n",
    "    # Handle the response\n",
    "    if response.status_code == 200:\n",
    "        return response.json()\n",
    "    else:\n",
    "        raise Exception(f'Error: {response.status_code}, Message: {response.text}')\n"
   ]
  },
  {
   "cell_type": "code",
   "execution_count": 81,
   "metadata": {},
   "outputs": [],
   "source": [
    "past_orders=get_all_past_orders(symbol)\n",
    "past_orders_df=pandas.DataFrame(past_orders)\n",
    "past_orders_df.to_csv(\"past_order.csv\")"
   ]
  },
  {
   "cell_type": "code",
   "execution_count": 23,
   "metadata": {},
   "outputs": [
    {
     "name": "stdout",
     "output_type": "stream",
     "text": [
      "Performing job\n",
      "2024-06-17 13:51:40.897831: No change in delta. No order placed.\n",
      "Updated old_delta to: 0.0009\n",
      "Performing job\n",
      "2024-06-17 13:51:55.468693: No change in delta. No order placed.\n",
      "Updated old_delta to: 0.00089\n"
     ]
    },
    {
     "ename": "KeyboardInterrupt",
     "evalue": "",
     "output_type": "error",
     "traceback": [
      "\u001b[1;31m---------------------------------------------------------------------------\u001b[0m",
      "\u001b[1;31mKeyboardInterrupt\u001b[0m                         Traceback (most recent call last)",
      "Cell \u001b[1;32mIn[23], line 29\u001b[0m\n\u001b[0;32m     27\u001b[0m \u001b[38;5;28;01mwhile\u001b[39;00m \u001b[38;5;28;01mTrue\u001b[39;00m:\n\u001b[0;32m     28\u001b[0m     schedule\u001b[38;5;241m.\u001b[39mrun_pending()\n\u001b[1;32m---> 29\u001b[0m     time\u001b[38;5;241m.\u001b[39msleep(\u001b[38;5;241m1\u001b[39m)\n",
      "\u001b[1;31mKeyboardInterrupt\u001b[0m: "
     ]
    }
   ],
   "source": [
    "import schedule\n",
    "import time\n",
    "\n",
    "# Assuming these are updated dynamically from a data source\n",
    "\n",
    "with open(\"old_delta.json\", 'r') as file:\n",
    "\n",
    "    data = json.load(file)\n",
    "old_delta=data\n",
    "def job():\n",
    "    try: \n",
    "        global old_delta\n",
    "        print(\"Performing job\")\n",
    "        calculate_and_place_order(symbol,old_delta)\n",
    "        old_delta=information_for_options(client)[-2]\n",
    "        print(f\"Updated old_delta to: {old_delta}\")       \n",
    "        with open(\"old_delta.json\", \"w\") as json_file:\n",
    "            json.dump(old_delta, json_file)\n",
    "    except Exception as e:\n",
    "        print(f\"Exception: {e}\")\n",
    "\n",
    "    \n",
    "# Schedule the job every hour\n",
    "schedule.every(10).seconds.do(job)\n",
    "\n",
    "# Run the scheduler\n",
    "while True:\n",
    "    schedule.run_pending()\n",
    "    time.sleep(1)"
   ]
  },
  {
   "cell_type": "code",
   "execution_count": 97,
   "metadata": {},
   "outputs": [],
   "source": [
    "def get_account_balances(symbol=None):\n",
    "    api_key,api_secret=get_keys(\"binance_keys.json\")\n",
    "    client = Client(api_key, api_secret, testnet=True)\n",
    "    time_offset=get_time_off_set(\"time.json\")\n",
    "    if time_offset:\n",
    "        client.timestamp_offset = time_offset\n",
    "    try:\n",
    "        # Fetch account information\n",
    "        account_info = client.get_account()\n",
    "\n",
    "        # Extract balances\n",
    "        balances = account_info['balances']\n",
    "        balance_info = []\n",
    "\n",
    "        # Iterate through each balance and append non-zero balances to the list\n",
    "        if symbol==None:\n",
    "            for balance in balances:\n",
    "                asset = balance['asset']\n",
    "                free_balance = float(balance['free'])\n",
    "                locked_balance = float(balance['locked'])\n",
    "                total_balance = free_balance + locked_balance\n",
    "\n",
    "                if total_balance > 0:\n",
    "                    balance_info.append({\n",
    "                        'Asset': asset,\n",
    "                        'Free': free_balance,\n",
    "                        'Locked': locked_balance,\n",
    "                        'Total': total_balance\n",
    "                    })\n",
    "        else: \n",
    "            for balance in balances:\n",
    "                if balance['asset'] in symbol:\n",
    "                    asset = balance['asset']\n",
    "                    free_balance = float(balance['free'])\n",
    "                    locked_balance = float(balance['locked'])\n",
    "                    total_balance = free_balance + locked_balance\n",
    "\n",
    "                    if total_balance > 0:\n",
    "                        balance_info.append({\n",
    "                            'Asset': asset,\n",
    "                            'Free': free_balance,\n",
    "                            'Locked': locked_balance,\n",
    "                            'Total': total_balance\n",
    "                        })\n",
    "\n",
    "        return balance_info\n",
    "\n",
    "    except Exception as e:\n",
    "        print(f\"An error occurred: {e}\")\n",
    "        return []"
   ]
  },
  {
   "cell_type": "code",
   "execution_count": 98,
   "metadata": {},
   "outputs": [],
   "source": [
    "def display_balances(balances):\n",
    "    time_offset=get_time_off_set(\"time.json\")\n",
    "    if time_offset:\n",
    "        client.timestamp_offset = time_offset\n",
    "    if not balances:\n",
    "        print(\"No balances found or an error occurred.\")\n",
    "        return\n",
    "\n",
    "    print(f\"{'Asset':<10} {'Free Balance':<15} {'Locked Balance':<15} {'Total Balance':<15}\")\n",
    "    print(\"=\"*55)\n",
    "    for balance in balances:\n",
    "        print(f\"{balance['Asset']:<10} {balance['Free']:<15} {balance['Locked']:<15} {balance['Total']:<15}\")"
   ]
  },
  {
   "cell_type": "code",
   "execution_count": 104,
   "metadata": {},
   "outputs": [],
   "source": [
    "list=[\"ETH\",\"USDT\"]\n",
    "balances = get_account_balances(list)\n"
   ]
  },
  {
   "cell_type": "code",
   "execution_count": 105,
   "metadata": {},
   "outputs": [
    {
     "name": "stdout",
     "output_type": "stream",
     "text": [
      "Asset      Free Balance    Locked Balance  Total Balance  \n",
      "=======================================================\n",
      "ETH        2.95            0.0             2.95           \n",
      "USDT       1121.8207307    0.0             1121.8207307   \n"
     ]
    }
   ],
   "source": [
    "display_balances(balances)"
   ]
  }
 ],
 "metadata": {
  "kernelspec": {
   "display_name": "Yolo",
   "language": "python",
   "name": "python3"
  },
  "language_info": {
   "codemirror_mode": {
    "name": "ipython",
    "version": 3
   },
   "file_extension": ".py",
   "mimetype": "text/x-python",
   "name": "python",
   "nbconvert_exporter": "python",
   "pygments_lexer": "ipython3",
   "version": "3.11.9"
  }
 },
 "nbformat": 4,
 "nbformat_minor": 2
}
