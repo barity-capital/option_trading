{
 "cells": [
  {
   "cell_type": "code",
   "execution_count": 3,
   "metadata": {},
   "outputs": [],
   "source": [
    "import ccxt\n",
    "import requests\n",
    "from binance.client import Client\n",
    "from binance.exceptions import BinanceAPIException\n",
    "from datetime import datetime, timedelta\n",
    "import time\n",
    "import hashlib\n",
    "import hmac\n",
    "import json\n",
    "import re\n",
    "import os\n",
    "import main\n"
   ]
  },
  {
   "cell_type": "code",
   "execution_count": 4,
   "metadata": {},
   "outputs": [],
   "source": [
    "from main import *"
   ]
  },
  {
   "cell_type": "code",
   "execution_count": 8,
   "metadata": {},
   "outputs": [],
   "source": [
    "def deribit_set_up(mode):\n",
    "    logger.info(f\"We are in: {mode} mode\")\n",
    "    client_id_testnet = \"m_cYdGRs\"\n",
    "    client_secret_testnet = \"CFMj4XERdBpYU5f-xGiEeM6q29WWPh78KbOllO8I5nI\"\n",
    "\n",
    "    client_id_realnet = \"VUSrWKNX\"\n",
    "    client_secret_realnet = \"CNIEmjiKy2p-h28O4Mda1QKD8hXJ3duA5rAODdLfvwE\"\n",
    "\n",
    "    if mode == \"test\":\n",
    "        client_id = client_id_testnet\n",
    "        client_secret = client_secret_testnet\n",
    "        base_url = 'https://test.deribit.com/api/v2/' # test base url\n",
    "    else:\n",
    "        client_id = client_id_realnet\n",
    "        client_secret = client_secret_realnet\n",
    "        base_url = 'https://www.deribit.com/api/v2/'\n",
    "\n",
    "    logging.info(f\"The base url: {base_url}\")\n",
    "\n",
    "    client = ccxt.deribit({\n",
    "        'apiKey': client_id,\n",
    "        'secret': client_secret,\n",
    "        'timeout': 150000,\n",
    "    })\n",
    "    if mode==\"test\":\n",
    "        client.set_sandbox_mode(True)\n",
    "    return client"
   ]
  },
  {
   "cell_type": "code",
   "execution_count": 12,
   "metadata": {},
   "outputs": [
    {
     "name": "stderr",
     "output_type": "stream",
     "text": [
      "INFO:main:We are in: test mode\n"
     ]
    }
   ],
   "source": [
    "client=deribit_set_up(\"test\")"
   ]
  },
  {
   "cell_type": "code",
   "execution_count": 13,
   "metadata": {},
   "outputs": [],
   "source": [
    "new_delta = float(information_for_options(client)[-2])\n",
    "contract_size = float(information_for_options(client)[-1])"
   ]
  },
  {
   "cell_type": "code",
   "execution_count": 22,
   "metadata": {},
   "outputs": [
    {
     "name": "stdout",
     "output_type": "stream",
     "text": [
      "('8mByJVFXdNbYbK9lYTaml4qEopUOXubb1JeIM4hBYbH1lxQEzXbyE7o3Wz42U9bj', 'EVXGqpetdxLzCJxi0Aqskb4bH7mNc35Jo2yw4b7O6ji3JU3nWQgHyHpbJii5x292')\n"
     ]
    }
   ],
   "source": [
    "print(get_keys(\"binance_keys.json\"))"
   ]
  },
  {
   "cell_type": "code",
   "execution_count": 26,
   "metadata": {},
   "outputs": [],
   "source": [
    "def get_account_balances(symbol=None):\n",
    "    api_key,api_secret=get_keys(\"binance_keys.json\")\n",
    "    client = Client(api_key, api_secret, testnet=False)\n",
    "    time_offset=get_time_off_set(\"time.json\")\n",
    "    if time_offset:\n",
    "        client.timestamp_offset = time_offset\n",
    "    try:\n",
    "        # Fetch account information\n",
    "        account_info = client.get_account()\n",
    "\n",
    "        # Extract balances\n",
    "        balances = account_info['balances']\n",
    "        balance_info = []\n",
    "\n",
    "        # Iterate through each balance and append non-zero balances to the list\n",
    "        if symbol==None:\n",
    "            for balance in balances:\n",
    "                asset = balance['asset']\n",
    "                free_balance = float(balance['free'])\n",
    "                locked_balance = float(balance['locked'])\n",
    "                total_balance = free_balance + locked_balance\n",
    "\n",
    "                if total_balance > 0:\n",
    "                    balance_info.append({\n",
    "                        'Asset': asset,\n",
    "                        'Free': free_balance,\n",
    "                        'Locked': locked_balance,\n",
    "                        'Total': total_balance\n",
    "                    })\n",
    "        else: \n",
    "            for balance in balances:\n",
    "                if balance['asset'] in symbol:\n",
    "                    asset = balance['asset']\n",
    "                    free_balance = float(balance['free'])\n",
    "                    locked_balance = float(balance['locked'])\n",
    "                    total_balance = free_balance + locked_balance\n",
    "\n",
    "                    if total_balance > 0:\n",
    "                        balance_info.append({\n",
    "                            'Asset': asset,\n",
    "                            'Free': free_balance,\n",
    "                            'Locked': locked_balance,\n",
    "                            'Total': total_balance\n",
    "                        })\n",
    "\n",
    "        return balance_info\n",
    "    except Exception as e:\n",
    "        print(f\"An error occurred: {e}\")\n",
    "        return []"
   ]
  },
  {
   "cell_type": "code",
   "execution_count": 35,
   "metadata": {},
   "outputs": [
    {
     "name": "stdout",
     "output_type": "stream",
     "text": [
      "[{'Asset': 'USDT', 'Free': 100.0, 'Locked': 0.0, 'Total': 100.0}]\n",
      "Insuffiecient asset\n"
     ]
    }
   ],
   "source": [
    "liquid=get_account_balances(\"USDT\")\n",
    "print(liquid)\n",
    "if liquid==[]:\n",
    "    print(\"Account is empty\")\n",
    "elif liquid[0]['Free']<200:\n",
    "    print(\"Insuffiecient asset\")"
   ]
  },
  {
   "cell_type": "code",
   "execution_count": 12,
   "metadata": {},
   "outputs": [],
   "source": [
    "def information_for_options():\n",
    "    client=deribit_set_up(\"test\")\n",
    "    try:\n",
    "        markets = client.fetch_markets()\n",
    "        server_time = client.fetch_time()\n",
    "        # Filter option markets\n",
    "        option_markets = [market for market in markets if market['type'] == 'option']\n",
    "        # print(\"Option markets:\", option_markets)\n",
    "        for i in option_markets:\n",
    "            # print(i[\"info\"])\n",
    "            filtered_list = []\n",
    "            expiry_timestamp = float(i['info']['expiration_timestamp'])/1000\n",
    "            # Convert expiry timestamp to datetime\n",
    "            expiry_datetime = datetime.utcfromtimestamp(expiry_timestamp) \n",
    "\n",
    "            # Calculate current datetime plus 20 weeks\n",
    "            current_datetime = datetime.utcnow()\n",
    "            twenty_weeks_later = current_datetime + timedelta(weeks=4)\n",
    "            # Check if expiry datetime is greater than 20 weeks later\n",
    "            if expiry_datetime <= twenty_weeks_later:\n",
    "                filtered_list.append(i)\n",
    "                # if call option and strike is not none, add to list\n",
    "                second_filtered_list = []\n",
    "                for item in filtered_list:\n",
    "                    # if item[\"strike\"] is not None and \n",
    "                    if item[\"optionType\"] == \"call\" and item[\"strike\"] is not None:\n",
    "\n",
    "                        second_filtered_list.append(item)\n",
    "                        # third_filtered_list = []\n",
    "                        # # Loop through second filtered list and get contract with longest expiration\n",
    "                        # for item in second_filtered_list:\n",
    "                        #     expired_time = item[\"expiration_timestamp\"]\n",
    "                            \n",
    "        #                     if item[\"expiration_timestamp\"] is not None:\n",
    "        #                         third_filtered_list.append(item)\n",
    "                third_filtered_list = []\n",
    "                expiry_timestamp_list = []\n",
    "                if len(second_filtered_list) > 0:\n",
    "                    longest_expiry_contract = max(second_filtered_list, key=lambda x: x['expiry'])\n",
    "\n",
    "        # print(longest_expiry_contract)\n",
    "        # Contract symbol\n",
    "        symbol = longest_expiry_contract[\"id\"]\n",
    "        # Timestamp of contract            \n",
    "        expire_time = float(longest_expiry_contract[\"info\"][\"expiration_timestamp\"])\n",
    "        # convert expiration timestamp to datetime\n",
    "        expiry_datetime = datetime.utcfromtimestamp(expire_time/1000)\n",
    "        # Get delta\n",
    "        contract_delta = client.fetch_greeks(longest_expiry_contract[\"symbol\"])\n",
    "        delta = contract_delta[\"info\"][\"greeks\"][\"delta\"]\n",
    "\n",
    "        # Get contract size\n",
    "        # Calculate share to purchase\n",
    "        contract_size = longest_expiry_contract[\"info\"][\"contract_size\"]\n",
    "        share_to_purchase = float(delta) * float(contract_size)\n",
    "\n",
    "\n",
    "        return expiry_datetime, share_to_purchase, symbol ,delta ,contract_size\n",
    "    except Exception as e:\n",
    "        logger.error(f\"Failed to retrieve options information: {e}\")\n",
    "        print(\"ERROR INFO for option\")\n",
    "        return None, None, None, None, None"
   ]
  },
  {
   "cell_type": "code",
   "execution_count": 13,
   "metadata": {},
   "outputs": [
    {
     "name": "stderr",
     "output_type": "stream",
     "text": [
      "INFO:main:We are in Deribit: test mode\n"
     ]
    },
    {
     "data": {
      "text/plain": [
       "0.09925"
      ]
     },
     "execution_count": 13,
     "metadata": {},
     "output_type": "execute_result"
    }
   ],
   "source": [
    "float(information_for_options()[-2])"
   ]
  },
  {
   "cell_type": "code",
   "execution_count": 15,
   "metadata": {},
   "outputs": [
    {
     "name": "stderr",
     "output_type": "stream",
     "text": [
      "INFO:main:We are in Deribit: test mode\n"
     ]
    },
    {
     "name": "stdout",
     "output_type": "stream",
     "text": [
      "(datetime.datetime(2024, 8, 9, 8, 0), 0.09938, 'ETH-9AUG24-4600-C', '0.09938', '1.0')\n"
     ]
    }
   ],
   "source": [
    "print(information_for_options())"
   ]
  }
 ],
 "metadata": {
  "kernelspec": {
   "display_name": "Yolo",
   "language": "python",
   "name": "python3"
  },
  "language_info": {
   "codemirror_mode": {
    "name": "ipython",
    "version": 3
   },
   "file_extension": ".py",
   "mimetype": "text/x-python",
   "name": "python",
   "nbconvert_exporter": "python",
   "pygments_lexer": "ipython3",
   "version": "3.12.4"
  }
 },
 "nbformat": 4,
 "nbformat_minor": 2
}
