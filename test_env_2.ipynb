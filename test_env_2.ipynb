{
 "cells": [
  {
   "cell_type": "code",
   "execution_count": 4,
   "metadata": {},
   "outputs": [
    {
     "ename": "ModuleNotFoundError",
     "evalue": "No module named 'pandas'",
     "output_type": "error",
     "traceback": [
      "\u001b[1;31m---------------------------------------------------------------------------\u001b[0m",
      "\u001b[1;31mModuleNotFoundError\u001b[0m                       Traceback (most recent call last)",
      "Cell \u001b[1;32mIn[4], line 7\u001b[0m\n\u001b[0;32m      5\u001b[0m \u001b[38;5;28;01mimport\u001b[39;00m \u001b[38;5;21;01mlogging\u001b[39;00m\n\u001b[0;32m      6\u001b[0m \u001b[38;5;28;01mimport\u001b[39;00m \u001b[38;5;21;01mccxt\u001b[39;00m\n\u001b[1;32m----> 7\u001b[0m \u001b[38;5;28;01mimport\u001b[39;00m \u001b[38;5;21;01mpandas\u001b[39;00m \u001b[38;5;28;01mas\u001b[39;00m \u001b[38;5;21;01mpd\u001b[39;00m\n\u001b[0;32m      8\u001b[0m \u001b[38;5;28;01mimport\u001b[39;00m \u001b[38;5;21;01mtime\u001b[39;00m\n\u001b[0;32m      9\u001b[0m \u001b[38;5;28;01mimport\u001b[39;00m \u001b[38;5;21;01mcontextlib\u001b[39;00m\n",
      "\u001b[1;31mModuleNotFoundError\u001b[0m: No module named 'pandas'"
     ]
    }
   ],
   "source": [
    "import os\n",
    "from dotenv import load_dotenv\n",
    "from datetime import datetime, timedelta ,timezone\n",
    "from logging.handlers import RotatingFileHandler\n",
    "import logging\n",
    "import ccxt\n",
    "import pandas as pd\n",
    "import time\n",
    "import contextlib\n",
    "import io\n",
    "# Replace with your actual API key and secret\n",
    "\n",
    "load_dotenv(\"config.env\")\n",
    "\n",
    "def deribit_set_up():\n",
    "  \n",
    "    if mode == \"test\":\n",
    "        client_id = deribit_client_id_testnet\n",
    "        client_secret = deribit_client_secret_testnet\n",
    "        base_url = 'https://test.deribit.com/api/v2/' # test base url\n",
    "    else:\n",
    "        client_id = deribit_client_id_realnet\n",
    "        client_secret = deribit_client_secret_realnet\n",
    "        base_url = 'https://www.deribit.com/api/v2/'\n",
    "\n",
    "    logging.info(f\"The base url: {base_url}\")\n",
    "\n",
    "    client = ccxt.deribit({\n",
    "        'apiKey': client_id,\n",
    "        'secret': client_secret,\n",
    "        'timeout': 150000,\n",
    "    })\n",
    "    if mode==\"test\":\n",
    "        client.set_sandbox_mode(True)\n",
    "    return client\n",
    "time_delta = int(os.getenv('TIME_DELTA', '1'))  # Default to 1 week if not set\n",
    "runtime = int(os.getenv('RUNTIME', '3600'))  # Default to 3600 seconds (1 hour) if not set\n",
    "binance_api_key = os.getenv('BINANCE_API_KEY')\n",
    "binance_api_secret = os.getenv('BINANCE_API_SECRET')\n",
    "deribit_client_id_testnet = os.getenv('DERIBIT_CLIENT_ID_TESTNET')\n",
    "deribit_client_secret_testnet = os.getenv('DERIBIT_CLIENT_SECRET_TESTNET')\n",
    "deribit_client_id_realnet = os.getenv('DERIBIT_CLIENT_ID_REALNET')\n",
    "deribit_client_secret_realnet = os.getenv('DERIBIT_CLIENT_SECRET_REALNET')\n",
    "mode=os.getenv(\"MODE\")\n",
    "# Fetch all open positions\n",
    "\n",
    "\n",
    "\n",
    "# Replace with your actual API key and secret\n",
    "client=deribit_set_up()\n",
    "# Fetch all open positions\n",
    "positions = client.fetch_positions()\n",
    "\n",
    "# Filter out options positions\n",
    "options_positions = [pos for pos in positions if 'option' in pos['info']['instrument_name']]\n",
    "\n",
    "# Convert to DataFrame for better display\n",
    "df = pd.DataFrame(options_positions)\n",
    "print(df)\n",
    "\n",
    "# If you want to display it in a Jupyter notebook or a similar environment, you can use:\n",
    "# display(df)\n"
   ]
  }
 ],
 "metadata": {
  "kernelspec": {
   "display_name": "Yolo",
   "language": "python",
   "name": "python3"
  },
  "language_info": {
   "codemirror_mode": {
    "name": "ipython",
    "version": 3
   },
   "file_extension": ".py",
   "mimetype": "text/x-python",
   "name": "python",
   "nbconvert_exporter": "python",
   "pygments_lexer": "ipython3",
   "version": "3.12.4"
  }
 },
 "nbformat": 4,
 "nbformat_minor": 2
}
